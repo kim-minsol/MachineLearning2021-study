{
  "nbformat": 4,
  "nbformat_minor": 0,
  "metadata": {
    "colab": {
      "name": "CNN-(basic).ipynb",
      "provenance": [],
      "collapsed_sections": [],
      "authorship_tag": "ABX9TyND6ydC5lDS3juVHj2MI50i",
      "include_colab_link": true
    },
    "kernelspec": {
      "name": "python3",
      "display_name": "Python 3"
    },
    "language_info": {
      "name": "python"
    },
    "accelerator": "GPU"
  },
  "cells": [
    {
      "cell_type": "markdown",
      "metadata": {
        "id": "view-in-github",
        "colab_type": "text"
      },
      "source": [
        "<a href=\"https://colab.research.google.com/github/kim-minsol/MachineLearning2021-study/blob/main/CNN_(basic).ipynb\" target=\"_parent\"><img src=\"https://colab.research.google.com/assets/colab-badge.svg\" alt=\"Open In Colab\"/></a>"
      ]
    },
    {
      "cell_type": "code",
      "metadata": {
        "id": "srWeE-uFyPPo"
      },
      "source": [
        "import tensorflow as tf\n",
        "from tensorflow import keras\n",
        "\n",
        "import os"
      ],
      "execution_count": null,
      "outputs": []
    },
    {
      "cell_type": "code",
      "metadata": {
        "colab": {
          "base_uri": "https://localhost:8080/",
          "height": 73
        },
        "id": "uYmXfvC-ykFE",
        "outputId": "a96cac6a-3cc5-4e60-f6a6-53ef3eaf5475"
      },
      "source": [
        "url = 'https://storage.googleapis.com/mledu-datasets/cats_and_dogs_filtered.zip'\n",
        "\n",
        "path_to_zip = keras.utils.get_file(fname='cats_and_dogs_filtered.zip',\n",
        "                                   origin=url, extract=True,\n",
        "                                   cache_dir='/content')\n",
        "path_to_zip"
      ],
      "execution_count": null,
      "outputs": [
        {
          "output_type": "stream",
          "text": [
            "Downloading data from https://storage.googleapis.com/mledu-datasets/cats_and_dogs_filtered.zip\n",
            "68608000/68606236 [==============================] - 2s 0us/step\n"
          ],
          "name": "stdout"
        },
        {
          "output_type": "execute_result",
          "data": {
            "application/vnd.google.colaboratory.intrinsic+json": {
              "type": "string"
            },
            "text/plain": [
              "'/content/datasets/cats_and_dogs_filtered.zip'"
            ]
          },
          "metadata": {
            "tags": []
          },
          "execution_count": 4
        }
      ]
    },
    {
      "cell_type": "code",
      "metadata": {
        "id": "6_TQ1Cocyuzh"
      },
      "source": [
        "train_dir = '/content/datasets/cats_and_dogs_filtered/train'\n",
        "validation_dir = '/content/datasets/cats_and_dogs_filtered/validation'"
      ],
      "execution_count": null,
      "outputs": []
    },
    {
      "cell_type": "code",
      "metadata": {
        "id": "yTyW6wrQzFh9"
      },
      "source": [
        "from tensorflow.keras.preprocessing.image import ImageDataGenerator"
      ],
      "execution_count": null,
      "outputs": []
    },
    {
      "cell_type": "code",
      "metadata": {
        "id": "WlRSYaBdvK_H"
      },
      "source": [
        "#Scaling(0~255->0~1)\n",
        "train_datagenerator = ImageDataGenerator(rescale = 1./255)\n",
        "validation_datagenerator = ImageDataGenerator(rescale = 1./255)"
      ],
      "execution_count": null,
      "outputs": []
    },
    {
      "cell_type": "code",
      "metadata": {
        "colab": {
          "base_uri": "https://localhost:8080/"
        },
        "id": "W-aqf2GXuVhP",
        "outputId": "b5196945-6790-41ad-eb36-bc4522d2bc95"
      },
      "source": [
        "train_generator = train_datagenerator.flow_from_directory(\n",
        "    directory=train_dir,\n",
        "    target_size=(150,150),\n",
        "    batch_size=20,\n",
        "    shuffle=True,\n",
        "    class_mode='binary'\n",
        ")"
      ],
      "execution_count": null,
      "outputs": [
        {
          "output_type": "stream",
          "text": [
            "Found 2000 images belonging to 2 classes.\n"
          ],
          "name": "stdout"
        }
      ]
    },
    {
      "cell_type": "code",
      "metadata": {
        "colab": {
          "base_uri": "https://localhost:8080/"
        },
        "id": "sATN8azcvnGa",
        "outputId": "294475c6-70d2-44f3-a8d1-0d6cafd8a48a"
      },
      "source": [
        "validation_generator = validation_datagenerator.flow_from_directory(\n",
        "    directory=validation_dir,\n",
        "    target_size=(150,150),\n",
        "    batch_size=20,\n",
        "    class_mode='binary'\n",
        ")"
      ],
      "execution_count": null,
      "outputs": [
        {
          "output_type": "stream",
          "text": [
            "Found 1000 images belonging to 2 classes.\n"
          ],
          "name": "stdout"
        }
      ]
    },
    {
      "cell_type": "code",
      "metadata": {
        "colab": {
          "base_uri": "https://localhost:8080/"
        },
        "id": "JeaBjHTBv4LW",
        "outputId": "b74c5fbf-9d5d-420f-c18e-bc0564402d89"
      },
      "source": [
        "x, y = next(train_generator)\n",
        "x.shape, y.shape"
      ],
      "execution_count": null,
      "outputs": [
        {
          "output_type": "execute_result",
          "data": {
            "text/plain": [
              "((20, 150, 150, 3), (20,))"
            ]
          },
          "metadata": {
            "tags": []
          },
          "execution_count": 12
        }
      ]
    },
    {
      "cell_type": "code",
      "metadata": {
        "colab": {
          "base_uri": "https://localhost:8080/"
        },
        "id": "-viUTeMewUuN",
        "outputId": "e3f8184e-aea7-49e0-ed5f-58e326301537"
      },
      "source": [
        "y"
      ],
      "execution_count": null,
      "outputs": [
        {
          "output_type": "execute_result",
          "data": {
            "text/plain": [
              "array([0., 1., 0., 1., 1., 0., 1., 0., 1., 0., 0., 1., 1., 0., 0., 0., 0.,\n",
              "       1., 0., 0.], dtype=float32)"
            ]
          },
          "metadata": {
            "tags": []
          },
          "execution_count": 13
        }
      ]
    },
    {
      "cell_type": "markdown",
      "metadata": {
        "id": "fRqrC6LNwe0O"
      },
      "source": [
        "###input data : (150,150,3)\n",
        "\n",
        "\n",
        "###feature_extraction : -> 3D tensor\n",
        "\n",
        "conv layer(32,(3,3)) , pool layer ((2,2))\n",
        "\n",
        "conv layer(64,(3,3)) , pool layer ((2,2))\n",
        "\n",
        "conv layer(128,(3,3)) , pool layer ((2,2))\n",
        "\n",
        "conv layer(128,(3,3)) , pool layer ((2,2))\n",
        "\n",
        "###flatten -> 1D tensor\n",
        "\n",
        "\n",
        "###classification\n",
        "- fc layer (512)\n",
        "\n",
        "- fc layer (2, softmax)===>사용 x\n",
        "\n",
        "- fc layer (1, sigmoid)\n",
        "\n",
        "\n",
        "\n",
        "\n",
        "cats : 0 , dogs : 1\n",
        "\n"
      ]
    },
    {
      "cell_type": "code",
      "metadata": {
        "id": "YH4YfFdJwc7l"
      },
      "source": [
        "from tensorflow.keras import models, layers\n",
        "\n",
        "model = models.Sequential()\n",
        "\n",
        "model.add(layers.Conv2D(filters=32, kernel_size=(3,3), activation='relu', input_shape=(150,150,3)))\n",
        "model.add(layers.MaxPool2D(2,2))\n",
        "model.add(layers.Conv2D(filters=64, kernel_size=(3,3), activation='relu'))\n",
        "model.add(layers.MaxPool2D(2,2))\n",
        "model.add(layers.Conv2D(filters=128, kernel_size=(3,3), activation='relu'))\n",
        "model.add(layers.MaxPool2D(2,2))\n",
        "model.add(layers.Conv2D(filters=128, kernel_size=(3,3), activation='relu'))\n",
        "model.add(layers.MaxPool2D(2,2))\n",
        "\n",
        "model.add(layers.Flatten())\n",
        "\n",
        "model.add(layers.Dense(units=512, activation='relu'))\n",
        "model.add(layers.Dense(units=1, activation='sigmoid'))\n"
      ],
      "execution_count": null,
      "outputs": []
    },
    {
      "cell_type": "code",
      "metadata": {
        "colab": {
          "base_uri": "https://localhost:8080/"
        },
        "id": "NONeG-6o9ugP",
        "outputId": "1f67aadb-a12d-4896-98df-78c2cb596f58"
      },
      "source": [
        "model.summary()"
      ],
      "execution_count": null,
      "outputs": [
        {
          "output_type": "stream",
          "text": [
            "Model: \"sequential_1\"\n",
            "_________________________________________________________________\n",
            "Layer (type)                 Output Shape              Param #   \n",
            "=================================================================\n",
            "conv2d_4 (Conv2D)            (None, 148, 148, 32)      896       \n",
            "_________________________________________________________________\n",
            "max_pooling2d_4 (MaxPooling2 (None, 74, 74, 32)        0         \n",
            "_________________________________________________________________\n",
            "conv2d_5 (Conv2D)            (None, 72, 72, 64)        18496     \n",
            "_________________________________________________________________\n",
            "max_pooling2d_5 (MaxPooling2 (None, 36, 36, 64)        0         \n",
            "_________________________________________________________________\n",
            "conv2d_6 (Conv2D)            (None, 34, 34, 128)       73856     \n",
            "_________________________________________________________________\n",
            "max_pooling2d_6 (MaxPooling2 (None, 17, 17, 128)       0         \n",
            "_________________________________________________________________\n",
            "conv2d_7 (Conv2D)            (None, 15, 15, 128)       147584    \n",
            "_________________________________________________________________\n",
            "max_pooling2d_7 (MaxPooling2 (None, 7, 7, 128)         0         \n",
            "_________________________________________________________________\n",
            "flatten_1 (Flatten)          (None, 6272)              0         \n",
            "_________________________________________________________________\n",
            "dense_2 (Dense)              (None, 512)               3211776   \n",
            "_________________________________________________________________\n",
            "dense_3 (Dense)              (None, 1)                 513       \n",
            "=================================================================\n",
            "Total params: 3,453,121\n",
            "Trainable params: 3,453,121\n",
            "Non-trainable params: 0\n",
            "_________________________________________________________________\n"
          ],
          "name": "stdout"
        }
      ]
    },
    {
      "cell_type": "code",
      "metadata": {
        "id": "D5SBhXDq-GVw"
      },
      "source": [
        "#라벨 데이터 : 원핫 인코딩 -> categorical_crossentropy\n",
        "#라벨 데이터 : 라벨 인코딩(여러개) -> sparse_categorical_crossentropy\n",
        "#라벨 데이터 : 라벨 인코딩(0과 1) -> binary_crossentropy\n",
        "model.compile(optimizer='rmsprop',\n",
        "              loss='binary_crossentropy',\n",
        "              metrics=['accuracy'])"
      ],
      "execution_count": null,
      "outputs": []
    },
    {
      "cell_type": "code",
      "metadata": {
        "colab": {
          "base_uri": "https://localhost:8080/"
        },
        "id": "FSYFQx5Z_A5f",
        "outputId": "8a062e51-1209-41a3-9ba6-d30d22eba13c"
      },
      "source": [
        "model.fit(train_generator,\n",
        "          steps_per_epoch=len(train_generator),\n",
        "          epochs=20,\n",
        "          validation_data=validation_generator,\n",
        "          validation_steps=len(validation_generator)\n",
        "          )"
      ],
      "execution_count": null,
      "outputs": [
        {
          "output_type": "stream",
          "text": [
            "Epoch 1/20\n",
            "100/100 [==============================] - 40s 86ms/step - loss: 0.7880 - accuracy: 0.5105 - val_loss: 0.6915 - val_accuracy: 0.5000\n",
            "Epoch 2/20\n",
            "100/100 [==============================] - 9s 85ms/step - loss: 0.6861 - accuracy: 0.5610 - val_loss: 0.6702 - val_accuracy: 0.5570\n",
            "Epoch 3/20\n",
            "100/100 [==============================] - 9s 85ms/step - loss: 0.6509 - accuracy: 0.6455 - val_loss: 0.6298 - val_accuracy: 0.6440\n",
            "Epoch 4/20\n",
            "100/100 [==============================] - 8s 84ms/step - loss: 0.6023 - accuracy: 0.6905 - val_loss: 0.6874 - val_accuracy: 0.6240\n",
            "Epoch 5/20\n",
            "100/100 [==============================] - 8s 85ms/step - loss: 0.5500 - accuracy: 0.7280 - val_loss: 0.6079 - val_accuracy: 0.7000\n",
            "Epoch 6/20\n",
            "100/100 [==============================] - 8s 84ms/step - loss: 0.4969 - accuracy: 0.7630 - val_loss: 0.5776 - val_accuracy: 0.7090\n",
            "Epoch 7/20\n",
            "100/100 [==============================] - 8s 84ms/step - loss: 0.4503 - accuracy: 0.7950 - val_loss: 0.6776 - val_accuracy: 0.6930\n",
            "Epoch 8/20\n",
            "100/100 [==============================] - 8s 85ms/step - loss: 0.3990 - accuracy: 0.8150 - val_loss: 0.5578 - val_accuracy: 0.7440\n",
            "Epoch 9/20\n",
            "100/100 [==============================] - 8s 85ms/step - loss: 0.3532 - accuracy: 0.8455 - val_loss: 0.7001 - val_accuracy: 0.7220\n",
            "Epoch 10/20\n",
            "100/100 [==============================] - 9s 86ms/step - loss: 0.3116 - accuracy: 0.8785 - val_loss: 0.7107 - val_accuracy: 0.7310\n",
            "Epoch 11/20\n",
            "100/100 [==============================] - 8s 84ms/step - loss: 0.2366 - accuracy: 0.9125 - val_loss: 0.8207 - val_accuracy: 0.7040\n",
            "Epoch 12/20\n",
            "100/100 [==============================] - 8s 84ms/step - loss: 0.1836 - accuracy: 0.9315 - val_loss: 1.0986 - val_accuracy: 0.7060\n",
            "Epoch 13/20\n",
            "100/100 [==============================] - 8s 84ms/step - loss: 0.1433 - accuracy: 0.9470 - val_loss: 1.0350 - val_accuracy: 0.7190\n",
            "Epoch 14/20\n",
            "100/100 [==============================] - 9s 85ms/step - loss: 0.1241 - accuracy: 0.9555 - val_loss: 1.1261 - val_accuracy: 0.7060\n",
            "Epoch 15/20\n",
            "100/100 [==============================] - 8s 84ms/step - loss: 0.0941 - accuracy: 0.9655 - val_loss: 1.5644 - val_accuracy: 0.7230\n",
            "Epoch 16/20\n",
            "100/100 [==============================] - 8s 84ms/step - loss: 0.0928 - accuracy: 0.9665 - val_loss: 1.7990 - val_accuracy: 0.7080\n",
            "Epoch 17/20\n",
            "100/100 [==============================] - 8s 84ms/step - loss: 0.0878 - accuracy: 0.9735 - val_loss: 1.4764 - val_accuracy: 0.7150\n",
            "Epoch 18/20\n",
            "100/100 [==============================] - 8s 85ms/step - loss: 0.0825 - accuracy: 0.9740 - val_loss: 1.6092 - val_accuracy: 0.7150\n",
            "Epoch 19/20\n",
            "100/100 [==============================] - 8s 84ms/step - loss: 0.0756 - accuracy: 0.9755 - val_loss: 1.6131 - val_accuracy: 0.7170\n",
            "Epoch 20/20\n",
            "100/100 [==============================] - 8s 84ms/step - loss: 0.0486 - accuracy: 0.9845 - val_loss: 2.2365 - val_accuracy: 0.7240\n"
          ],
          "name": "stdout"
        },
        {
          "output_type": "execute_result",
          "data": {
            "text/plain": [
              "<tensorflow.python.keras.callbacks.History at 0x7ff8be0d1750>"
            ]
          },
          "metadata": {
            "tags": []
          },
          "execution_count": 22
        }
      ]
    },
    {
      "cell_type": "code",
      "metadata": {
        "colab": {
          "base_uri": "https://localhost:8080/"
        },
        "id": "E4zrEGMlBqPY",
        "outputId": "3da38549-75b9-479d-ded2-b7c66751e95d"
      },
      "source": [
        "val_loss, val_accuracy = model.evaluate(validation_generator)"
      ],
      "execution_count": null,
      "outputs": [
        {
          "output_type": "stream",
          "text": [
            "50/50 [==============================] - 3s 52ms/step - loss: 2.2365 - accuracy: 0.7240\n"
          ],
          "name": "stdout"
        }
      ]
    }
  ]
}