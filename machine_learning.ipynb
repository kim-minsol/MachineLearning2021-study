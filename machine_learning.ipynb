{
  "nbformat": 4,
  "nbformat_minor": 0,
  "metadata": {
    "colab": {
      "name": "machine_learning.ipynb",
      "provenance": [],
      "collapsed_sections": [],
      "authorship_tag": "ABX9TyOK5Nzm7EWAUaRTV1Fcd5UG",
      "include_colab_link": true
    },
    "kernelspec": {
      "name": "python3",
      "display_name": "Python 3"
    },
    "language_info": {
      "name": "python"
    }
  },
  "cells": [
    {
      "cell_type": "markdown",
      "metadata": {
        "id": "view-in-github",
        "colab_type": "text"
      },
      "source": [
        "<a href=\"https://colab.research.google.com/github/kim-minsol/MachineLearning2021-study/blob/main/machine_learning.ipynb\" target=\"_parent\"><img src=\"https://colab.research.google.com/assets/colab-badge.svg\" alt=\"Open In Colab\"/></a>"
      ]
    },
    {
      "cell_type": "markdown",
      "metadata": {
        "id": "FDcwFwGN2Jdy"
      },
      "source": [
        "sklearn으로 머신러닝 시작하기"
      ]
    },
    {
      "cell_type": "code",
      "metadata": {
        "colab": {
          "base_uri": "https://localhost:8080/"
        },
        "id": "xxSyzrhV00F_",
        "outputId": "14fc03c1-1012-4e95-a5ae-f7110ecf179e"
      },
      "source": [
        "# 필요한 라이브러리 로딩\n",
        "# load_iris 를 import 시키기\n",
        "from sklearn.datasets import load_iris\n",
        "'''\n",
        "# train_test_split 를 import 시키기\n",
        "from ______ \n",
        "# KNeighborsClassifier 를 import 시키기\n",
        "from ______\n",
        "'''\n",
        "# 데이터셋 로딩\n",
        "iris = load_iris()\n",
        "\n",
        "# 속성 이용하여 데이터셋의 전체적인 정보 확인\n",
        "print(iris.DESCR)\n",
        "'''\n",
        "# 속성 이용하여 feature 확인(코드 제출시 주석 처리)\n",
        "print('Iris data shape:', iris.data.shape)\n",
        "print('Iris feature name\\n:', iris.feature_names)\n",
        "print('Iris data\\n:', iris.data)\n",
        "print('Iris data type\\n:', type(iris.data))\n",
        "\n",
        "# 속성 이용하여 class 확인 (코드 제출시 주석 처리)\n",
        "print('iris target name:\\n',iris.target_names)\n",
        "print('iris target value:\\n',iris.target)\n",
        "'''\n",
        "from sklearn.model_selection import train_test_split\n",
        "\n",
        "# 데이터셋을 train, test 로 분할\n",
        "# random_state 값은 강의와 동일하게 지정하세요.\n",
        "x_train, x_test, y_train, y_test = train_test_split(iris.data,\n",
        "                                                    iris.target,\n",
        "                                                    test_size=0.3,\n",
        "                                                    random_state=11)\n",
        "'''\n",
        "# 분할된 데이터의 shape 확인 (코드 제출시 주석 처리)\n",
        "print('x_train.shape = ', x_train.shape)\n",
        "print('y_train.shape = ', y_train.shape)\n",
        "print('x_test.shape = ', x_test.shape)\n",
        "print('y_test.shape = ', y_test.shape)\n",
        "'''\n",
        "from sklearn.neighbors import KNeighborsClassifier\n",
        "\n",
        "# KNeighborsClassifier 의 객체 생성\n",
        "knn = KNeighborsClassifier(n_neighbors=8)\n",
        "#print(type(knn))\n",
        "\n",
        "# 훈련 데이터를 이용하여 분류 모델 학습\n",
        "knn.fit(x_train, y_train)\n",
        "\n",
        "# 학습된 knn 모델 기반 예측\n",
        "y_pred = knn.predict(x_test)\n",
        "print('Prediction:\\n',y_pred)\n",
        "\n",
        "# 모델 평가\n",
        "score = knn.score(x_test, y_test)\n",
        "print('Accuracy : {0:.5f}'.format(score))"
      ],
      "execution_count": null,
      "outputs": [
        {
          "output_type": "stream",
          "text": [
            ".. _iris_dataset:\n",
            "\n",
            "Iris plants dataset\n",
            "--------------------\n",
            "\n",
            "**Data Set Characteristics:**\n",
            "\n",
            "    :Number of Instances: 150 (50 in each of three classes)\n",
            "    :Number of Attributes: 4 numeric, predictive attributes and the class\n",
            "    :Attribute Information:\n",
            "        - sepal length in cm\n",
            "        - sepal width in cm\n",
            "        - petal length in cm\n",
            "        - petal width in cm\n",
            "        - class:\n",
            "                - Iris-Setosa\n",
            "                - Iris-Versicolour\n",
            "                - Iris-Virginica\n",
            "                \n",
            "    :Summary Statistics:\n",
            "\n",
            "    ============== ==== ==== ======= ===== ====================\n",
            "                    Min  Max   Mean    SD   Class Correlation\n",
            "    ============== ==== ==== ======= ===== ====================\n",
            "    sepal length:   4.3  7.9   5.84   0.83    0.7826\n",
            "    sepal width:    2.0  4.4   3.05   0.43   -0.4194\n",
            "    petal length:   1.0  6.9   3.76   1.76    0.9490  (high!)\n",
            "    petal width:    0.1  2.5   1.20   0.76    0.9565  (high!)\n",
            "    ============== ==== ==== ======= ===== ====================\n",
            "\n",
            "    :Missing Attribute Values: None\n",
            "    :Class Distribution: 33.3% for each of 3 classes.\n",
            "    :Creator: R.A. Fisher\n",
            "    :Donor: Michael Marshall (MARSHALL%PLU@io.arc.nasa.gov)\n",
            "    :Date: July, 1988\n",
            "\n",
            "The famous Iris database, first used by Sir R.A. Fisher. The dataset is taken\n",
            "from Fisher's paper. Note that it's the same as in R, but not as in the UCI\n",
            "Machine Learning Repository, which has two wrong data points.\n",
            "\n",
            "This is perhaps the best known database to be found in the\n",
            "pattern recognition literature.  Fisher's paper is a classic in the field and\n",
            "is referenced frequently to this day.  (See Duda & Hart, for example.)  The\n",
            "data set contains 3 classes of 50 instances each, where each class refers to a\n",
            "type of iris plant.  One class is linearly separable from the other 2; the\n",
            "latter are NOT linearly separable from each other.\n",
            "\n",
            ".. topic:: References\n",
            "\n",
            "   - Fisher, R.A. \"The use of multiple measurements in taxonomic problems\"\n",
            "     Annual Eugenics, 7, Part II, 179-188 (1936); also in \"Contributions to\n",
            "     Mathematical Statistics\" (John Wiley, NY, 1950).\n",
            "   - Duda, R.O., & Hart, P.E. (1973) Pattern Classification and Scene Analysis.\n",
            "     (Q327.D83) John Wiley & Sons.  ISBN 0-471-22361-1.  See page 218.\n",
            "   - Dasarathy, B.V. (1980) \"Nosing Around the Neighborhood: A New System\n",
            "     Structure and Classification Rule for Recognition in Partially Exposed\n",
            "     Environments\".  IEEE Transactions on Pattern Analysis and Machine\n",
            "     Intelligence, Vol. PAMI-2, No. 1, 67-71.\n",
            "   - Gates, G.W. (1972) \"The Reduced Nearest Neighbor Rule\".  IEEE Transactions\n",
            "     on Information Theory, May 1972, 431-433.\n",
            "   - See also: 1988 MLC Proceedings, 54-64.  Cheeseman et al\"s AUTOCLASS II\n",
            "     conceptual clustering system finds 3 classes in the data.\n",
            "   - Many, many more ...\n",
            "Prediction:\n",
            " [2 2 2 1 2 0 1 0 0 1 2 1 1 2 2 0 2 1 2 2 1 0 0 1 0 0 2 1 0 1 0 2 2 0 0 2 2\n",
            " 1 0 2 1 2 0 1 2]\n",
            "Accuracy : 0.97778\n"
          ],
          "name": "stdout"
        }
      ]
    },
    {
      "cell_type": "markdown",
      "metadata": {
        "id": "XskiyMA3HGrR"
      },
      "source": [
        "데이터 전처리 - 인코딩"
      ]
    },
    {
      "cell_type": "code",
      "metadata": {
        "colab": {
          "base_uri": "https://localhost:8080/"
        },
        "id": "DU36zzghHGdE",
        "outputId": "96044f37-07ae-49ba-c12e-660c0182054b"
      },
      "source": [
        "# 필요한 라이브러리 로딩\n",
        "import seaborn as sns\n",
        "\n",
        "# sklearn 의 LabelEncoder, OneHotEncoder 를 import 시키기\n",
        "from sklearn.preprocessing import LabelEncoder\n",
        "from sklearn.preprocessing import OneHotEncoder\n",
        "\n",
        "#데이터 로딩\n",
        "tips = sns.load_dataset('tips')\n",
        "#print(tips.head(5))\n",
        "\n",
        "# 인코딩할 컬럼 데이터 준비 \n",
        "items = tips['day']\n",
        "\n",
        "# 1. 라벨인코딩(LabelEncoding) 실습\n",
        "# LabelEncoder 객체 생성\n",
        "encoder = LabelEncoder()\n",
        "\n",
        "# fit 메소드에 인코딩할 데이터 전달\n",
        "encoder.fit(items)\n",
        "\n",
        "# transform 메소드를 통해 데이터 변 환 \n",
        "labels = encoder.transform(items)\n",
        "\n",
        "\n",
        "# 인코딩 결과 출력 (코드 제출시에는 주석 처리)\n",
        "# print('Label Encoding Result:\\n',labels)\n",
        "\n",
        "# 인코딩된 수치형 데이터의 실제 클래스 확인 및 출력\n",
        "classes = encoder.classes_\n",
        "print('LabelEncoding classes:', classes)\n",
        "\n",
        "# 디코딩 결과 확인 및 출력\n",
        "inverse_result = encoder.inverse_transform([2])\n",
        "print('LabelDecoding result:', inverse_result)\n",
        "\n",
        "\n",
        "# 2. 원핫인코딩(OneHotEncoding) 실습\n",
        "# 2차원 데이터로 변환\n",
        "labels = labels.reshape(-1,1)\n",
        "\n",
        "# OneHotEncoder 객체 생성\n",
        "one_hot_encoder = OneHotEncoder()\n",
        "\n",
        "# .fit 메소드에 인코딩할 데이터 전달\n",
        "one_hot_encoder.fit(labels)\n",
        "\n",
        "# .transform 메소드를 통해 데이터 변환 \n",
        "one_hot_labels = one_hot_encoder.transform(labels)\n",
        "\n",
        "# 인코딩 결과 출력 (코드 제출시에는 주석 처리)\n",
        "#print('OneHotEncoding Result:\\n', one_hot_labels.toarray())\n",
        "\n",
        "# 속성 이용하여 인코딩된 데이터의 실제 클래스 확인\n",
        "onehot_classes = one_hot_encoder.categories_\n",
        "print('OneHotEncoding classes:', onehot_classes)\n"
      ],
      "execution_count": null,
      "outputs": [
        {
          "output_type": "stream",
          "text": [
            "LabelEncoding classes: ['Fri' 'Sat' 'Sun' 'Thur']\n",
            "LabelDecoding result: ['Sun']\n",
            "OneHotEncoding classes: [array([0, 1, 2, 3])]\n"
          ],
          "name": "stdout"
        }
      ]
    },
    {
      "cell_type": "markdown",
      "metadata": {
        "id": "Rkva1AkTMPwH"
      },
      "source": [
        "데이터전처리 - 스케일링 (1)"
      ]
    },
    {
      "cell_type": "code",
      "metadata": {
        "colab": {
          "base_uri": "https://localhost:8080/",
          "height": 841
        },
        "id": "gxBS8enpMPiW",
        "outputId": "19bccb03-4378-4bcc-a726-3d7037301a55"
      },
      "source": [
        "# 필요한 라이브러리 로딩\n",
        "import seaborn as sns\n",
        "import pandas as pd\n",
        "import numpy as np\n",
        "import matplotlib.pyplot as plt\n",
        "\n",
        "# StandardScaler 로딩\n",
        "from sklearn.preprocessing import StandardScaler\n",
        "\n",
        "# URL 통해서 캐글의 자전거 대여 수요 데이터셋 다운로드\n",
        "url = 'https://codepresso-online-platform-public.s3.ap-northeast-2.amazonaws.com/learning-resourse/python-machine-learning-20210326/bike-demand.csv'\n",
        "df_bike = pd.read_csv(url)\n",
        "# 코드 제출시 아래 코드는 주석 처리 필요\n",
        "#print(df_bike.head(5))\n",
        "\n",
        "# temp, atemp, humidity, windspeed\t컬럼 데이터만 저장\n",
        "df_bike_num = df_bike.iloc[:, 5:9]\n",
        "# 코드 제출시 아래 코드는 주석 처리 필요\n",
        "#print(df_bike_num.head(5))\n",
        "\n",
        "# 각 컬럼별 평균, 분산 출력\n",
        "print('Average')\n",
        "print(np.round_(df_bike_num.mean(),3))\n",
        "print('Variance')\n",
        "print(np.round_(df_bike_num.var(),3)) \n",
        "\n",
        "# StandardScaler 객체 생성\n",
        "scaler = StandardScaler()\n",
        "\n",
        "# StandardScaler 모델 통해 데이터 분포 분석\n",
        "scaler.fit(df_bike_num)\n",
        "\n",
        "# 모델 통해서 데이터 스케일링 후 반환\n",
        "result = scaler.transform(df_bike_num)\n",
        "\n",
        "# 스케일된 결과 데이터를 DataFrame 으로 저장\n",
        "scaled_bike = pd.DataFrame(data=result, columns=df_bike_num.columns)\n",
        "\n",
        "# 각 컬럼별 평균, 분산 출력\n",
        "print('--------- StandardScaler ---------')\n",
        "print('Average')\n",
        "print(np.round_(scaled_bike.mean(),3))\n",
        "print('Variance')\n",
        "print(np.round_(scaled_bike.var(),3)) \n",
        "\n",
        "#박스풀롯으로 시각화\n",
        "plt.figure(figsize=(10,6))\n",
        "scaled_bike.boxplot(column=['temp', 'atemp', 'humidity', 'windspeed'])\n",
        "plt.show()\n",
        "\n"
      ],
      "execution_count": null,
      "outputs": [
        {
          "output_type": "stream",
          "text": [
            "Average\n",
            "temp         20.231\n",
            "atemp        23.655\n",
            "humidity     61.886\n",
            "windspeed    12.799\n",
            "dtype: float64\n",
            "Variance\n",
            "temp          60.709\n",
            "atemp         71.819\n",
            "humidity     370.371\n",
            "windspeed     66.660\n",
            "dtype: float64\n",
            "--------- StandardScaler ---------\n",
            "Average\n",
            "temp         0.0\n",
            "atemp       -0.0\n",
            "humidity    -0.0\n",
            "windspeed   -0.0\n",
            "dtype: float64\n",
            "Variance\n",
            "temp         1.0\n",
            "atemp        1.0\n",
            "humidity     1.0\n",
            "windspeed    1.0\n",
            "dtype: float64\n"
          ],
          "name": "stdout"
        },
        {
          "output_type": "display_data",
          "data": {
            "image/png": "[encoded data removed]",
            "text/plain": [
              "<Figure size 720x432 with 1 Axes>"
            ]
          },
          "metadata": {
            "tags": [],
            "needs_background": "light"
          }
        }
      ]
    },
    {
      "cell_type": "markdown",
      "metadata": {
        "id": "52CKz0JlNu03"
      },
      "source": [
        "데이터전처리 - 스케일링 (2)"
      ]
    },
    {
      "cell_type": "code",
      "metadata": {
        "id": "Oc0IrmPyNtlS"
      },
      "source": [
        "# 필요한 라이브러리 로딩\n",
        "import pandas as pd\n",
        "import numpy as np\n",
        "import matplotlib.pyplot as plt\n",
        "\n",
        "# MinMaxScaler 로딩\n",
        "from sklearn.preprocessing import MinMaxScaler\n",
        "\n",
        "# URL 통해서 캐글의 자전거 대여 수요 데이터셋 다운로드\n",
        "url = 'https://codepresso-online-platform-public.s3.ap-northeast-2.amazonaws.com/learning-resourse/python-machine-learning-20210326/bike-demand.csv'\n",
        "df_bike = pd.read_csv(url)\n",
        "\n",
        "# 확인용으로만 출력하시고, 최종 코드 제출시에는 주석 처리\n",
        "#print(df_bike.head(5))\n",
        "\n",
        "# temp, atemp, humidity, windspeed\t컬럼 데이터만 저장\n",
        "df_bike_num = df_bike.iloc[:, 5:9]\n",
        "\n",
        "# 확인용으로만 출력하시고, 최종 코드 제출시에는 주석 처리\n",
        "#print(df_bike_num.head(5))\n",
        "\n",
        "# 각 컬럼별 최대/최소값 출력\n",
        "print('Min Value')\n",
        "print(np.round_(df_bike_num.min(),3))\n",
        "print('Max Value')\n",
        "print(np.round_(df_bike_num.max(),3)) \n",
        "\n",
        "# MinMaxScaler 객체 생성\n",
        "scaler = MinMaxScaler()\n",
        "\n",
        "# fit 함수 이용하여 데이터 분포 분석 및 스케일링 정보 저장\n",
        "scaler.fit(df_bike_num)\n",
        "\n",
        "# 실제 데이터 스케일링 작업 후 결과 데이터셋 반환\n",
        "result = scaler.transform(df_bike_num)\n",
        "\n",
        "# 스케일된 결과 데이터를 DataFrame 으로 저장\n",
        "scaled_bike = pd.DataFrame(data=result, columns=df_bike_num.columns)\n",
        "\n",
        "# 각 컬럼별 최대/최소값 출력\n",
        "print('--------- MinMaxScaler ---------')\n",
        "print('Min Value')\n",
        "print(np.round_(scaled_bike.min(),3))\n",
        "print('Max Value')\n",
        "print(np.round_(scaled_bike.max(),3)) \n",
        "\n",
        "\n",
        "# 박스플롯(boxplot) 으로 시각화\n",
        "plt.figure(figsize=(10,6))\n",
        "scaled_bike.boxplot(column=['temp', 'atemp', 'humidity', 'windspeed'])\n",
        "plt.show()"
      ],
      "execution_count": null,
      "outputs": []
    },
    {
      "cell_type": "markdown",
      "metadata": {
        "id": "tEATDfozUF91"
      },
      "source": [
        "회귀의 이해"
      ]
    },
    {
      "cell_type": "code",
      "metadata": {
        "colab": {
          "base_uri": "https://localhost:8080/",
          "height": 708
        },
        "id": "OplblYh_UFhn",
        "outputId": "108597a3-b49d-4fa8-b381-dde72fa5fc98"
      },
      "source": [
        "# 필요한 라이브러리 로딩\n",
        "import pandas as pd\n",
        "import numpy as np\n",
        "import matplotlib.pyplot as plt\n",
        "\n",
        "from sklearn.datasets import load_boston\n",
        "from sklearn.linear_model import LinearRegression\n",
        "\n",
        "# Boston housing price 데이터셋 로딩\n",
        "boston = load_boston()\n",
        "print('Data shape:', boston.data.shape)\n",
        "\n",
        "# 독립변수, 종속변수 데이터 정의\n",
        "X_rooms = boston.data[ : , 5]\n",
        "y = boston.target\n",
        "print('X shape:', X_rooms.shape)\n",
        "print('y shape:', y.shape)\n",
        "\n",
        "# 데이터의 분포 확인을 위해 산점도로 시각화\n",
        "plt.figure()\n",
        "plt.scatter(X_rooms, y)\n",
        "plt.xlabel('Number of rooms')\n",
        "plt.ylabel('Values of house')\n",
        "plt.show()\n",
        "\n",
        "# 2차원 데이터로 shape 변환\n",
        "X_rooms = X_rooms.reshape(-1,1)\n",
        "y = y.reshape(-1,1)\n",
        "print('X reshape result:', X_rooms.shape)\n",
        "print('y reshape result:' , y.shape)\n",
        "\n",
        "# LinearRegression 객체 생성\n",
        "regression = LinearRegression()\n",
        "\n",
        "# 학습데이터 연결 및 학습 수행\n",
        "regression.fit(X_rooms, y)\n",
        "\n",
        "# 테스팅에 사용할 데이터 생성\n",
        "testing = np.linspace(min(X_rooms), max(X_rooms)).reshape(-1,1)\n",
        "print('Testing data shape:', testing.shape)\n",
        "\n",
        "# 모델 예측 수행\n",
        "y_pred = regression.predict(testing)\n",
        "\n",
        "# 최적의 회귀선 시각화\n",
        "plt.figure(figsize=(10, 5))\n",
        "# plt.scatter 이용해서 산점도 시각화\n",
        "plt.scatter(X_rooms, y)\n",
        "# plt.plot 이용해서 라인 그래프 시각화\n",
        "plt.plot(testing, y_pred, color='red', Linewidth=3)\n",
        "plt.xlabel('Number of rooms')\n",
        "plt.ylabel('Values of house')\n",
        "plt.show()"
      ],
      "execution_count": null,
      "outputs": [
        {
          "output_type": "stream",
          "text": [
            "Data shape: (506, 13)\n",
            "X shape: (506,)\n",
            "y shape: (506,)\n"
          ],
          "name": "stdout"
        },
        {
          "output_type": "display_data",
          "data": {
            "image/png": "[encoded data removed]",
            "text/plain": [
              "<Figure size 432x288 with 1 Axes>"
            ]
          },
          "metadata": {
            "tags": [],
            "needs_background": "light"
          }
        },
        {
          "output_type": "stream",
          "text": [
            "X reshape result: (506, 1)\n",
            "y reshape result: (506, 1)\n",
            "Testing data shape: (50, 1)\n"
          ],
          "name": "stdout"
        },
        {
          "output_type": "display_data",
          "data": {
            "image/png": "[encoded data removed]",
            "text/plain": [
              "<Figure size 720x360 with 1 Axes>"
            ]
          },
          "metadata": {
            "tags": [],
            "needs_background": "light"
          }
        }
      ]
    },
    {
      "cell_type": "markdown",
      "metadata": {
        "id": "y0ToqKUMsx9N"
      },
      "source": [
        "사이킷런을 이용한 회귀 실습"
      ]
    },
    {
      "cell_type": "code",
      "metadata": {
        "colab": {
          "base_uri": "https://localhost:8080/"
        },
        "id": "GLoZKFD7sxpW",
        "outputId": "de0b38ec-14ed-4706-cb99-241a4b056976"
      },
      "source": [
        "# 필요한 라이브러리 로딩\n",
        "import numpy as np\n",
        "import pandas as pd\n",
        "\n",
        "from sklearn.datasets import load_boston\n",
        "from sklearn.model_selection import train_test_split\n",
        "from sklearn.linear_model import LinearRegression\n",
        "# 모델 성능 평가를 위한 metrics 모듈 로딩\n",
        "from sklearn import metrics\n",
        "\n",
        "# 데이터셋 로딩\n",
        "boston = load_boston()\n",
        "\n",
        "# 데이터셋 분할\n",
        "# random_state 값은 강의와 동일하게 지정하세요.\n",
        "x_train, x_test, y_train, y_test = train_test_split(boston.data,\n",
        "                                                    boston.target,\n",
        "                                                    test_size=0.3,\n",
        "                                                    random_state=12)\n",
        "                             \n",
        "# LinearRegression 객체 생성\n",
        "regression = LinearRegression()\n",
        "\n",
        "# 학습데이터 연결 및 학습 수행\n",
        "regression.fit(x_train, y_train)\n",
        "\n",
        "# 모델 예측\n",
        "y_pred = regression.predict(x_test)\n",
        "\n",
        "# 회귀 계수 출력\n",
        "weight = np.round(regression.coef_, 1)\n",
        "bias = np.round(regression.intercept_, 2)\n",
        "print('Weight:', weight)\n",
        "print('Bias:', bias)\n",
        "\n",
        "# 컬럼별 회귀계수 출력\n",
        "coef_table = pd.Series(data=weight,\n",
        "                        index=boston.feature_names)\n",
        "\n",
        "# 아래는 출력 결과만 확인하시고, \n",
        "# 최종 제출시에는 주석으로 처리해주세요\n",
        "#print('Regression Coefficients :')\n",
        "#print(coef_table.sort_values(ascending=False))\n",
        "\n",
        "# 회귀 분석 모델을 위한 평가 지표 계산\n",
        "mse = metrics.mean_squared_error(y_test, y_pred)\n",
        "mae = metrics.mean_absolute_error(y_test, y_pred)\n",
        "rmse = np.sqrt(metrics.mean_squared_error(y_test, y_pred))\n",
        "#mape = metrics.mean_absolute_percentage_error(y_test, y_pred)\n",
        "'''\n",
        "mape 안되는 이유 찾기\n",
        "'''\n",
        "\n",
        "print('MSE  : {0:.3f}'.format(mse))\n",
        "print('MAE  : {0:.3f}'.format(mae))\n",
        "print('RMSE : {0:.3f}'.format(rmse))\n",
        "#print('MAPE : {0:.3f}'.format(mape))\n",
        "\n",
        "# R-squared 를 통한 모델의 설명력 평가\n",
        "r2_score = regression.score(x_test, y_test)\n",
        "r2_metric = metrics.r2_score(y_test, y_pred)\n",
        "\n",
        "print('\\nR-squared(r2_score) : {0:.3f}'.format(r2_score))\n",
        "print('R-squared(r2_metric) : {0:.3f}'.format(r2_metric))"
      ],
      "execution_count": null,
      "outputs": [
        {
          "output_type": "stream",
          "text": [
            "Weight: [ -0.1   0.1   0.1   3.3 -17.2   3.6   0.   -1.4   0.3  -0.   -0.8   0.\n",
            "  -0.6]\n",
            "Bias: 33.18\n",
            "MSE  : 25.549\n",
            "MAE  : 3.606\n",
            "RMSE : 5.055\n",
            "\n",
            "R-squared(r2_score) : 0.709\n",
            "R-squared(r2_metric) : 0.709\n"
          ],
          "name": "stdout"
        }
      ]
    },
    {
      "cell_type": "markdown",
      "metadata": {
        "id": "lXkqvXJsxmKa"
      },
      "source": [
        "릿지 규제 실습"
      ]
    },
    {
      "cell_type": "code",
      "metadata": {
        "colab": {
          "base_uri": "https://localhost:8080/",
          "height": 669
        },
        "id": "yhTCe1Egxlf2",
        "outputId": "57706830-9042-42d8-b75a-4a0a170de126"
      },
      "source": [
        "# 필요한 라이브러리 로딩\n",
        "import pandas as pd\n",
        "import numpy as np\n",
        "import matplotlib.pyplot as plt\n",
        "\n",
        "from sklearn.datasets import load_boston\n",
        "from sklearn.model_selection import train_test_split\n",
        "# 릿지 회귀 모델 적용을 위해 Ridge 로딩\n",
        "from sklearn.linear_model import Ridge\n",
        "\n",
        "# 데이터셋 로딩\n",
        "boston = load_boston()\n",
        "\n",
        "# 데이터셋 분할\n",
        "# random_state 값은 강의와 동일하게 지정하세요.\n",
        "x_train, x_test, y_train, y_test = train_test_split(boston.data,\n",
        "                                                    boston.target,\n",
        "                                                    test_size=0.3,\n",
        "                                                    random_state=12)\n",
        "\n",
        "# 규제를 위한 alpha 값 초기화\n",
        "# 학습시에는  alpha 값을 바꾸가면서 테스트해보시고,\n",
        "# 최종 코드 제출시에는 0.1 로 지정후 제출하세요.\n",
        "alpha = 0.1\n",
        "\n",
        "# Rigde 클래스 객체 생성\n",
        "ridge = Ridge(alpha=alpha)\n",
        "\n",
        "# 규제 학습 수행\n",
        "ridge.fit(x_train, y_train)\n",
        "\n",
        "# 모델을 통한 예측\n",
        "ridge_pred = ridge.predict(x_test)\n",
        "\n",
        "# 학습된 모델에 대한 R^2 계산\n",
        "r2_train = ridge.score(x_train, y_train)\n",
        "r2_test = ridge.score(x_test, y_test)\n",
        "print('Training-datasset R2 : {0:.3f}'.format(r2_train))\n",
        "print('Test-datasset R2 : {0:.3f}'.format(r2_test))\n",
        "\n",
        "# 컬럼별 회귀계수 저장한 Series 객체 생성 및 출력              \n",
        "ridge_coef_table = pd.Series(data=np.round(ridge.coef_, 1),\n",
        "                             index=boston.feature_names)\n",
        "print('Ridge Regression Coefficients :')\n",
        "print(ridge_coef_table.sort_values(ascending=False))\n",
        "\n",
        "# 막대그래프 시각화 \n",
        "plt.figure(figsize=(10,5))\n",
        "ridge_coef_table.plot(kind='bar')\n",
        "plt.ylim(-12.5)\n",
        "plt.show()"
      ],
      "execution_count": null,
      "outputs": [
        {
          "output_type": "stream",
          "text": [
            "Training-datasset R2 : 0.748\n",
            "Test-datasset R2 : 0.708\n",
            "Ridge Regression Coefficients :\n",
            "RM          3.6\n",
            "CHAS        3.3\n",
            "RAD         0.3\n",
            "INDUS       0.1\n",
            "ZN          0.1\n",
            "B           0.0\n",
            "TAX        -0.0\n",
            "AGE         0.0\n",
            "CRIM       -0.1\n",
            "LSTAT      -0.6\n",
            "PTRATIO    -0.8\n",
            "DIS        -1.3\n",
            "NOX       -15.7\n",
            "dtype: float64\n"
          ],
          "name": "stdout"
        },
        {
          "output_type": "display_data",
          "data": {
            "image/png": "[encoded data removed]",
            "text/plain": [
              "<Figure size 720x360 with 1 Axes>"
            ]
          },
          "metadata": {
            "tags": [],
            "needs_background": "light"
          }
        }
      ]
    },
    {
      "cell_type": "markdown",
      "metadata": {
        "id": "PNu16-Uc0aCG"
      },
      "source": [
        "라쏘 회귀 실습"
      ]
    },
    {
      "cell_type": "code",
      "metadata": {
        "colab": {
          "base_uri": "https://localhost:8080/",
          "height": 673
        },
        "id": "FaSrBxBS0Zy_",
        "outputId": "12e379d2-b93d-4a48-c562-fa28f16d7cc8"
      },
      "source": [
        "import pandas as pd\n",
        "import numpy as np\n",
        "import matplotlib.pyplot as plt\n",
        "\n",
        "from sklearn.datasets import load_boston\n",
        "from sklearn.model_selection import train_test_split\n",
        "# sklearn.linear_model 모듈의 Lasso 클래스 로딩\n",
        "from sklearn.linear_model import Lasso\n",
        "\n",
        "# 데이터셋 로딩\n",
        "boston = load_boston()\n",
        "\n",
        "# 데이터셋 분할\n",
        "# test_size=0.3, random_state=12 로 지정하세요.\n",
        "x_train, x_test, y_train, y_test = train_test_split(boston.data,\n",
        "                                                    boston.target,\n",
        "                                                    test_size=0.3,\n",
        "                                                    random_state=12)\n",
        "\n",
        "# 규제를 위한 alpha 값 초기화\n",
        "# 학습시에는 alpha 값을 바꾸가면서 테스트해보시고,\n",
        "# 최종 코드 제출시에는 0.1 로 지정후 제출하세요.\n",
        "alpha = 0.1\n",
        "\n",
        "# Lasso 클래스 객체 생성\n",
        "lasso = Lasso(alpha=alpha)\n",
        "\n",
        "# fit() 을 통한 규제 학습 수행\n",
        "lasso.fit(x_train, y_train)\n",
        "\n",
        "# predict() 를 통한 학습된 모델 기반 예측\n",
        "lasso_pred = lasso.predict(x_test)\n",
        "\n",
        "# score() 를 통해 회귀 모델의 R^2 출력\n",
        "# 학습된 모델에 대한 R^2 계산\n",
        "r2_train = lasso.score(x_train, y_train)\n",
        "r2_test = lasso.score(x_test, y_test)\n",
        "print('Training-datasset R2 : {0:.3f}'.format(r2_train))\n",
        "print('Test-datasset R2 : {0:.3f}'.format(r2_test))\n",
        "\n",
        "# 회귀 계수 저장을 위한 Seriess 객체 생성 및 출력\n",
        "lasso_coef_table = pd.Series(data=np.round(lasso.coef_, 1),\n",
        "                        index=boston.feature_names)\n",
        "print('Lasso Regression Coefficients :')\n",
        "print(lasso_coef_table.sort_values(ascending=False))\n",
        "\n",
        "# 막대그래프 시각화 \n",
        "plt.figure(figsize=(10,5))\n",
        "lasso_coef_table.plot(kind='bar')\n",
        "plt.ylim(-10, 4)\n",
        "plt.show()"
      ],
      "execution_count": null,
      "outputs": [
        {
          "output_type": "stream",
          "text": [
            "Training-datasset R2 : 0.736\n",
            "Test-datasset R2 : 0.693\n",
            "Lasso Regression Coefficients :\n",
            "RM         3.4\n",
            "CHAS       1.8\n",
            "RAD        0.3\n",
            "ZN         0.1\n",
            "B          0.0\n",
            "TAX       -0.0\n",
            "AGE        0.0\n",
            "NOX       -0.0\n",
            "INDUS      0.0\n",
            "CRIM      -0.1\n",
            "PTRATIO   -0.6\n",
            "LSTAT     -0.7\n",
            "DIS       -1.1\n",
            "dtype: float64\n"
          ],
          "name": "stdout"
        },
        {
          "output_type": "display_data",
          "data": {
            "image/png": "[encoded data removed]",
            "text/plain": [
              "<Figure size 720x360 with 1 Axes>"
            ]
          },
          "metadata": {
            "tags": [],
            "needs_background": "light"
          }
        }
      ]
    },
    {
      "cell_type": "markdown",
      "metadata": {
        "id": "U9Msk9G94Y4U"
      },
      "source": [
        "사이킷런을 이용한 로지스틱 회귀 실습 (1)"
      ]
    },
    {
      "cell_type": "code",
      "metadata": {
        "colab": {
          "base_uri": "https://localhost:8080/"
        },
        "id": "h8p7vmix4Yto",
        "outputId": "b5256b1f-b2a7-4da6-96a8-36efc9396060"
      },
      "source": [
        "# 필요한 라이브러리 로딩\n",
        "import pandas as pd\n",
        "import numpy as np\n",
        "\n",
        "# StandardScaler, train_test_split, LogisticRegression 로딩\n",
        "from sklearn.preprocessing import StandardScaler\n",
        "from sklearn.model_selection import train_test_split\n",
        "from sklearn.linear_model import LogisticRegression\n",
        "\n",
        "# 분류 모델을 위한 성능 지표 함수 로딩\n",
        "from sklearn.metrics import confusion_matrix\n",
        "from sklearn.metrics import accuracy_score\n",
        "from sklearn.metrics import precision_score\n",
        "from sklearn.metrics import recall_score\n",
        "\n",
        "# URL 통해서 캐글의 자전거 대여 수요 데이터셋 다운로드\n",
        "url = 'https://codepresso-online-platform-public.s3.ap-northeast-2.amazonaws.com/learning-resourse/python-machine-learning-20210326/bike-demand.csv'\n",
        "df_bike = pd.read_csv(url)\n",
        "\n",
        "# 독립변수 데이터 생성\n",
        "# temp, atemp, humidity, windspeed\t컬럼 데이터만 저장\n",
        "X_df_bike = df_bike.iloc[:, 5:9]\n",
        "#print(X_df_bike.head(5))\n",
        "\n",
        "# 종속변수 데이터를 위한 파생변수 생성\n",
        "# 총 대여건수(count) 가 500 이상인 경우 1, 미만인 경우 0\n",
        "df_bike['y'] = 1\n",
        "df_bike.loc[df_bike['count'] < 500, 'y'] = 0\n",
        "y = df_bike['y'] \n",
        "\n",
        "# StandardScaler 이용한 스케일링\n",
        "scaler = StandardScaler()\n",
        "scaler.fit(X_df_bike)\n",
        "result = scaler.transform(X_df_bike)\n",
        "\n",
        "# 스케일된 결과 데이터를 DataFrame 으로 저장\n",
        "X_scaled_bike = pd.DataFrame(data=result,\n",
        "                             columns=X_df_bike.columns)\n",
        "\n",
        "# 데이터셋 분리\n",
        "x_train, x_test, y_train, y_test = train_test_split(X_scaled_bike,\n",
        "                                                    y,\n",
        "                                                    test_size=0.3,\n",
        "                                                    random_state=12)\n",
        "\n",
        "# LogisticRegression 모델 객체 생성\n",
        "clf = LogisticRegression()\n",
        "\n",
        "# 훈련 데이터를 통한 학습\n",
        "clf.fit(x_train, y_train)\n",
        "\n",
        "# 학습된 모델에 테스트 데이터셋 이용하여 예측값 생성\n",
        "y_pred = clf.predict(x_test)\n",
        "\n",
        "# score 메소드를 통한 정확도 측정\n",
        "train_score = clf.score(x_train, y_train)\n",
        "test_score = clf.score(x_test, y_test)\n",
        "print('Training Data Accuracy: {:0.3f}'.format(train_score))\n",
        "print('Testing Data Accuracy: {:0.3f}'.format(test_score))\n",
        "\n",
        "# 오차 행렬 생성\n",
        "confusion = confusion_matrix(y_test, y_pred)\n",
        "print('Confusion Matrixs : \\n', confusion)\n",
        "\n",
        "# 정확도, 정밀도, 재현율 계산 \n",
        "accuracy = accuracy_score(y_test, y_pred)\n",
        "precision = precision_score(y_test, y_pred)\n",
        "recall = recall_score(y_test, y_pred)\n",
        "  \n",
        "print('Accuracy: {0:.4f}, Precision: {1:.4f}, Recall: {2:.4f}'\n",
        "      .format(accuracy , precision ,recall))"
      ],
      "execution_count": null,
      "outputs": [
        {
          "output_type": "stream",
          "text": [
            "Training Data Accuracy: 0.927\n",
            "Testing Data Accuracy: 0.924\n",
            "Confusion Matrixs : \n",
            " [[3018    0]\n",
            " [ 248    0]]\n",
            "Accuracy: 0.9241, Precision: 0.0000, Recall: 0.0000\n"
          ],
          "name": "stdout"
        },
        {
          "output_type": "stream",
          "text": [
            "/usr/local/lib/python3.7/dist-packages/sklearn/metrics/_classification.py:1272: UndefinedMetricWarning: Precision is ill-defined and being set to 0.0 due to no predicted samples. Use `zero_division` parameter to control this behavior.\n",
            "  _warn_prf(average, modifier, msg_start, len(result))\n"
          ],
          "name": "stderr"
        }
      ]
    },
    {
      "cell_type": "markdown",
      "metadata": {
        "id": "yBF8-mNBFcf_"
      },
      "source": [
        "사이킷런을 이용한 로지스틱 회귀 실습 (2)"
      ]
    },
    {
      "cell_type": "code",
      "metadata": {
        "colab": {
          "base_uri": "https://localhost:8080/"
        },
        "id": "kV6O_Rq7FcK_",
        "outputId": "956c4f84-b141-41c3-f7d4-fa9601540c8d"
      },
      "source": [
        "# 필요한 데이터셋 로딩\n",
        "from sklearn.datasets import load_breast_cancer\n",
        "from sklearn.preprocessing import StandardScaler\n",
        "from sklearn.model_selection import train_test_split\n",
        "from sklearn.linear_model import LogisticRegression\n",
        "from sklearn.metrics import accuracy_score, confusion_matrix, precision_score, recall_score\n",
        "\n",
        "# 데이터셋 로딩\n",
        "cancer = load_breast_cancer()\n",
        "\n",
        "\n",
        "# StandardScaler() 활용한 데이터 스케일링 \n",
        "scaler = StandardScaler()\n",
        "scaler.fit(cancer.data)\n",
        "data_scaled = scaler.transform(cancer.data)\n",
        "\n",
        "# 학습데이터와 테스트 데이터로 분할​\n",
        "x_train, x_test, y_train, y_test = train_test_split(data_scaled, \n",
        "                                                    cancer.target, \n",
        "                                                    test_size=0.3, \n",
        "                                                    random_state=12)\n",
        "\n",
        "# 로지스틱 회귀 분석 모델 생성 및 학습\n",
        "clf = LogisticRegression()\n",
        "clf.fit(x_train, y_train)\n",
        "\n",
        "# 학습된 모델에 테스트 데이터(x_test) 입력하여 예측값 생성\n",
        "y_pred = clf.predict(x_test)\n",
        "\n",
        "# 오차행렬 생성 및 출력\n",
        "confusion = confusion_matrix(y_test, y_pred)\n",
        "\n",
        "print('Confusion Matrix')\n",
        "print(confusion)\n",
        "\n",
        "# Accuracy, Precision, Recall 확인\n",
        "accuracy = accuracy_score(y_test, y_pred)\n",
        "precision = precision_score(y_test, y_pred)\n",
        "recall = recall_score(y_test, y_pred)\n",
        "  \n",
        "print('Accuracy: {0:.4f},Precision: {1:.4f},Recall: {2:.4f}'\n",
        "      .format(accuracy , precision ,recall))"
      ],
      "execution_count": null,
      "outputs": [
        {
          "output_type": "stream",
          "text": [
            "Confusion Matrix\n",
            "[[ 61   3]\n",
            " [  0 107]]\n",
            "Accuracy: 0.9825,Precision: 0.9727,Recall: 1.0000\n"
          ],
          "name": "stdout"
        }
      ]
    },
    {
      "cell_type": "markdown",
      "metadata": {
        "id": "voFuMTxReJL4"
      },
      "source": [
        "사이킷런을 활용한 roc커브와 auc 실습"
      ]
    },
    {
      "cell_type": "code",
      "metadata": {
        "colab": {
          "base_uri": "https://localhost:8080/",
          "height": 414
        },
        "id": "skT2kRNzeI9y",
        "outputId": "b376dda6-1e5a-42a3-e74c-fed66aa3f48a"
      },
      "source": [
        "# 필요한 라이브러리 로딩\n",
        "import pandas as pd\n",
        "import numpy as np\n",
        "\n",
        "from sklearn.preprocessing import StandardScaler\n",
        "from sklearn.model_selection import train_test_split\n",
        "from sklearn.linear_model import LogisticRegression\n",
        "\n",
        "# URL 통해서 캐글의 자전거 대여 수요 데이터셋 다운로드\n",
        "url = 'https://codepresso-online-platform-public.s3.ap-northeast-2.amazonaws.com/learning-resourse/python-machine-learning-20210326/bike-demand.csv'\n",
        "df_bike = pd.read_csv(url)\n",
        "\n",
        "# 독립변수 데이터 생성\n",
        "# temp, atemp, humidity, windspeed\t컬럼 데이터만 저장\n",
        "X_df_bike = df_bike.iloc[:, 5:9]\n",
        "#print(X_df_bike.head(5))\n",
        "\n",
        "# 종속변수 데이터를 위한 파생변수 생성\n",
        "# 총 대여건수(count) 가 500 이상인 경우 1, 미만인 경우 0\n",
        "df_bike['y'] = 1\n",
        "df_bike.loc[df_bike['count'] < 500, 'y'] = 0\n",
        "y = df_bike['y'] \n",
        "\n",
        "# StandardScaler 이용한 스케일링\n",
        "scaler = StandardScaler()\n",
        "scaler.fit(X_df_bike)\n",
        "result = scaler.transform(X_df_bike)\n",
        "\n",
        "# 스케일된 결과 데이터를 DataFrame 으로 저장\n",
        "X_scaled_bike = pd.DataFrame(data=result, \n",
        "                             columns=X_df_bike.columns)\n",
        "\n",
        "# 데이터셋 분리\n",
        "x_train, x_test, y_train, y_test = train_test_split(X_scaled_bike, \n",
        "                                                    y, \n",
        "                                                    test_size=0.3, \n",
        "                                                    random_state=12)\n",
        "\n",
        "# LogisticRegression 모델 객체 생성\n",
        "clf = LogisticRegression()\n",
        "\n",
        "# 훈련 데이터를 통한 학습\n",
        "clf.fit(x_train, y_train)\n",
        "\n",
        "# roc_curve() 메소드 로딩\n",
        "from sklearn.metrics import roc_curve\n",
        "\n",
        "# 학습된 모델에서 클래스 별 확률 예측값 생성\n",
        "predict_prob = clf.predict_proba(x_test)\n",
        "print('Predicted class probability(1st Data)', np.round(predict_prob[0], 3))\n",
        "print('Target data index(1st Data)', y_test.values[0])\n",
        "\n",
        "# roc_curve 메소드를 통한 FPR, TPR 계산 값과 이를 위한 Threshold 값 생성\n",
        "fprs , tprs , thresholds = roc_curve(y_test, predict_prob[:, 1])\n",
        "\n",
        "# FPR, TPR 계산 값 Threshold 값을 10건 만 샘플링\n",
        "thr_index = np.arange(0, thresholds.shape[0], 110)\n",
        "print('Sample Threshold Index(n=10):', thr_index)\n",
        "print('Sample Threshold Value(n=10): ', np.round(thresholds[thr_index], 2))\n",
        "print('Sample Threshold FPR(n=10): ', np.round(fprs[thr_index], 3))\n",
        "print('Sample Threshold TPR(n=10): ', np.round(tprs[thr_index], 3))\n",
        "\n",
        "# ROC Curve를 그리기 위한 함수\n",
        "def roc_curve_plot(y_test , pred_proba_c1):\n",
        "    import matplotlib.pyplot as plt\n",
        "    fprs , tprs , thresholds = roc_curve(y_test ,pred_proba_c1)\n",
        "\n",
        "    plt.plot(fprs , tprs, label='ROC')\n",
        "    plt.plot([0, 1], [0, 1], 'k--', label='Random')\n",
        "    \n",
        "    start, end = plt.xlim()\n",
        "    plt.xticks(np.round(np.arange(start, end, 0.1),2))\n",
        "    plt.xlim(0,1); plt.ylim(0,1)\n",
        "    plt.xlabel('FPR'); plt.ylabel('TPR( Recall )')\n",
        "    plt.legend()\n",
        "    plt.show()\n",
        "\n",
        " # roc_curve_plot 함수를 이용하여 ROC Curve 생성\n",
        "roc_curve_plot(y_test, clf.predict_proba(x_test)[:, 1])\n",
        "\n",
        "# roc_auc_score() 메소드 로딩\n",
        "from sklearn.metrics import roc_auc_score\n",
        "\n",
        "# roc_auc_score() 메소드를 통한 AUC 측정\n",
        "roc_score = roc_auc_score(y_test.values, predict_prob[:, 1])\n",
        "print('Testing Data AUC: {:0.3f}'.format(roc_score))"
      ],
      "execution_count": null,
      "outputs": [
        {
          "output_type": "stream",
          "text": [
            "Predicted class probability(1st Data) [0.887 0.113]\n",
            "Target data index(1st Data) 0\n",
            "Sample Threshold Index(n=10): [   0  110  220  330  440  550  660  770  880  990 1100]\n",
            "Sample Threshold Value(n=10):  [1.48 0.18 0.14 0.1  0.08 0.06 0.05 0.04 0.03 0.02 0.02]\n",
            "Sample Threshold FPR(n=10):  [0.    0.056 0.114 0.192 0.281 0.387 0.487 0.593 0.699 0.802 0.922]\n",
            "Sample Threshold TPR(n=10):  [0.    0.258 0.48  0.625 0.702 0.786 0.847 0.887 0.944 0.984 0.992]\n"
          ],
          "name": "stdout"
        },
        {
          "output_type": "display_data",
          "data": {
            "image/png": "[encoded data removed]",
            "text/plain": [
              "<Figure size 432x288 with 1 Axes>"
            ]
          },
          "metadata": {
            "tags": [],
            "needs_background": "light"
          }
        },
        {
          "output_type": "stream",
          "text": [
            "Testing Data AUC: 0.777\n"
          ],
          "name": "stdout"
        }
      ]
    },
    {
      "cell_type": "markdown",
      "metadata": {
        "id": "X1BGHjy-gkKq"
      },
      "source": [
        "사이킷런을 활용한 Decision Tree 모델 구현"
      ]
    },
    {
      "cell_type": "code",
      "metadata": {
        "colab": {
          "base_uri": "https://localhost:8080/"
        },
        "id": "R8FXMbk8gj6h",
        "outputId": "58338394-d655-4ec0-fd72-b8513ffe38c9"
      },
      "source": [
        "from sklearn.datasets import load_breast_cancer\n",
        "from sklearn.model_selection import train_test_split\n",
        "\n",
        "cancer = load_breast_cancer()\n",
        "\n",
        "x_train, x_test, y_train, y_test = train_test_split(cancer.data,\n",
        "\t\t\t\t\t\t\t\t\t\t\t\t\tcancer.target,\n",
        "\t\t\t\t\t\t\t\t\t\t\t\t\ttest_size=0.3,\n",
        "\t\t\t\t\t\t\t\t\t\t\t\t\trandom_state=12)\n",
        "# DecisionTreeClassifier 임포트\n",
        "from sklearn.tree import DecisionTreeClassifier\n",
        "\n",
        "# DecisionTreeClassifier 객체 생성\n",
        "dt = DecisionTreeClassifier(random_state=12)\n",
        "\n",
        "# fit 함수로 Decision Tree 모델 학습\n",
        "dt.fit(x_train, y_train)\n",
        "\n",
        "# 학습 된 Tree의 Depth 확인 - get_depth() 함수 사용\n",
        "print(\"Depth of tree: \", dt.get_depth())\n",
        "# 학습 된 Tree의 리프 노드 개수 확인 - get_n_leaves() 함수 사용\n",
        "print(\"Number of leaves: \", dt.get_n_leaves())\n",
        "\n",
        "# predict 함수로 테스트 데이터 세트 예측\n",
        "y_pred = dt.predict(x_test)\n",
        "print(y_pred[0:3])"
      ],
      "execution_count": null,
      "outputs": [
        {
          "output_type": "stream",
          "text": [
            "Depth of tree:  6\n",
            "Number of leaves:  13\n",
            "[0 1 1]\n"
          ],
          "name": "stdout"
        }
      ]
    },
    {
      "cell_type": "markdown",
      "metadata": {
        "id": "fPPGB5yGhhkF"
      },
      "source": [
        "사이킷런을 활용한 Decision Tree 모델 성능 평가"
      ]
    },
    {
      "cell_type": "code",
      "metadata": {
        "colab": {
          "base_uri": "https://localhost:8080/"
        },
        "id": "8ROv7oDxhha2",
        "outputId": "527cffc8-18b1-4220-a495-fda170c82405"
      },
      "source": [
        "from sklearn.datasets import load_breast_cancer\n",
        "from sklearn.model_selection import train_test_split\n",
        "from sklearn.tree import DecisionTreeClassifier\n",
        "cancer = load_breast_cancer()\n",
        "\n",
        "x_train, x_test, y_train, y_test = train_test_split(cancer.data,\n",
        "\t\t\t\t\t\t\t\t\t\t\t\t\tcancer.target,\n",
        "\t\t\t\t\t\t\t\t\t\t\t\t\ttest_size=0.3,\n",
        "\t\t\t\t\t\t\t\t\t\t\t\t\trandom_state=12)\n",
        "\n",
        "dt = DecisionTreeClassifier(random_state=12)\n",
        "dt.fit(x_train, y_train)\n",
        "y_pred = dt.predict(x_test)\n",
        "\n",
        "# 성능 지표 측정 함수 임포트 - accuracy_score, precision_score, recall_score\n",
        "from sklearn.metrics import accuracy_score, precision_score, recall_score\n",
        "\n",
        "# accuracy 계산\n",
        "accuracy = accuracy_score(y_test, y_pred)\n",
        "# precision 계산\n",
        "precision = precision_score(y_test, y_pred)\n",
        "# recall 계산\n",
        "recall = recall_score(y_test, y_pred)\n",
        "\n",
        "# 성능 지표 출력\n",
        "print(\"Accuracy: {:.3f}\".format(accuracy))\n",
        "print(\"Precision: {:.3f}\".format(precision))\n",
        "print(\"Recall: {:.3f}\".format(recall))"
      ],
      "execution_count": null,
      "outputs": [
        {
          "output_type": "stream",
          "text": [
            "Accuracy: 0.912\n",
            "Precision: 0.911\n",
            "Recall: 0.953\n"
          ],
          "name": "stdout"
        }
      ]
    },
    {
      "cell_type": "markdown",
      "metadata": {
        "id": "aVOl9sRnwHmn"
      },
      "source": [
        "Decision Tree 모델의 feature 중요도 확인"
      ]
    },
    {
      "cell_type": "code",
      "metadata": {
        "colab": {
          "base_uri": "https://localhost:8080/"
        },
        "id": "11p_chYpwHW4",
        "outputId": "c6ba506e-3ba7-45bb-fb2a-8e33afd80707"
      },
      "source": [
        "from sklearn.datasets import load_breast_cancer\n",
        "from sklearn.model_selection import train_test_split\n",
        "from sklearn.tree import DecisionTreeClassifier\n",
        "cancer = load_breast_cancer()\n",
        "\n",
        "x_train, x_test, y_train, y_test = train_test_split(cancer.data,\n",
        "\t\t\t\t\t\t\t\t\t\t\t\t\tcancer.target,\n",
        "\t\t\t\t\t\t\t\t\t\t\t\t\ttest_size=0.3,\n",
        "\t\t\t\t\t\t\t\t\t\t\t\t\trandom_state=12)\n",
        "\n",
        "dt = DecisionTreeClassifier(random_state=12)\n",
        "dt.fit(x_train, y_train)\n",
        "\n",
        "# 학습 된 모델의 Feature Importance 확인\n",
        "for i in range(0,len(cancer.feature_names)):\n",
        "  print('{0}: {1:.3f}'.format(cancer.feature_names[i], dt.feature_importances_[i]))"
      ],
      "execution_count": null,
      "outputs": [
        {
          "output_type": "stream",
          "text": [
            "mean radius: 0.000\n",
            "mean texture: 0.000\n",
            "mean perimeter: 0.000\n",
            "mean area: 0.014\n",
            "mean smoothness: 0.007\n",
            "mean compactness: 0.000\n",
            "mean concavity: 0.000\n",
            "mean concave points: 0.041\n",
            "mean symmetry: 0.000\n",
            "mean fractal dimension: 0.000\n",
            "radius error: 0.000\n",
            "texture error: 0.000\n",
            "perimeter error: 0.000\n",
            "area error: 0.009\n",
            "smoothness error: 0.000\n",
            "compactness error: 0.000\n",
            "concavity error: 0.000\n",
            "concave points error: 0.024\n",
            "symmetry error: 0.000\n",
            "fractal dimension error: 0.000\n",
            "worst radius: 0.011\n",
            "worst texture: 0.024\n",
            "worst perimeter: 0.777\n",
            "worst area: 0.011\n",
            "worst smoothness: 0.011\n",
            "worst compactness: 0.000\n",
            "worst concavity: 0.011\n",
            "worst concave points: 0.061\n",
            "worst symmetry: 0.000\n",
            "worst fractal dimension: 0.000\n"
          ],
          "name": "stdout"
        }
      ]
    },
    {
      "cell_type": "markdown",
      "metadata": {
        "id": "dB0162pTz-7f"
      },
      "source": [
        "Decision Tree 모델의 Hyperparameter 실습"
      ]
    },
    {
      "cell_type": "code",
      "metadata": {
        "colab": {
          "base_uri": "https://localhost:8080/"
        },
        "id": "0EaPbc_Pz-T7",
        "outputId": "d392f79a-a772-48f8-90c9-e3775e966a57"
      },
      "source": [
        "from sklearn.datasets import load_breast_cancer\n",
        "from sklearn.model_selection import train_test_split\n",
        "from sklearn.tree import DecisionTreeClassifier\n",
        "cancer = load_breast_cancer()\n",
        "\n",
        "x_train, x_test, y_train, y_test = train_test_split(cancer.data,\n",
        "\t\t\t\t\t\t\t\t\t\t\t\t\tcancer.target,\n",
        "\t\t\t\t\t\t\t\t\t\t\t\t\ttest_size=0.3,\n",
        "\t\t\t\t\t\t\t\t\t\t\t\t\trandom_state=12)\n",
        "\n",
        "# Hyperparameter 설정 없이 학습\n",
        "dt = DecisionTreeClassifier(random_state=12)\n",
        "dt.fit(x_train, y_train)\n",
        "\n",
        "# max depth와 leaf 노드 개수 확인, get_depth(), get_n_leaves() 함수 사용\n",
        "print(\"Max Depth: \", dt.get_depth())\n",
        "print(\"Number of leaves: \", dt.get_n_leaves())\n",
        "\n",
        "# max_depth를 3으로 설정 후 학습\n",
        "dt = DecisionTreeClassifier(max_depth=3, random_state=12)\n",
        "dt.fit(x_train, y_train)\n",
        "\n",
        "# max depth와 leaf 노드 개수 확인, get_depth(), get_n_leaves() 함수 사용\n",
        "print(\"Max Depth: \", dt.get_depth())\n",
        "print(\"Number of leaves: \", dt.get_n_leaves())\n",
        "\n",
        "# max_leaf_nodes를 9으로 설정 후 학습\n",
        "dt = DecisionTreeClassifier(max_leaf_nodes=9, random_state=12)\n",
        "dt.fit(x_train, y_train)\n",
        "\n",
        "# max depth와 leaf 노드 개수 확인, get_depth(), get_n_leaves() 함수 사용\n",
        "print(\"Max Depth: \", dt.get_depth())\n",
        "print(\"Number of leaves: \", dt.get_n_leaves())"
      ],
      "execution_count": null,
      "outputs": [
        {
          "output_type": "stream",
          "text": [
            "Max Depth:  6\n",
            "Number of leaves:  13\n",
            "Max Depth:  3\n",
            "Number of leaves:  8\n",
            "Max Depth:  4\n",
            "Number of leaves:  9\n"
          ],
          "name": "stdout"
        }
      ]
    },
    {
      "cell_type": "markdown",
      "metadata": {
        "id": "v5hW4gMdAq8V"
      },
      "source": [
        "사이킷런을 활용한 Voting Classifier 실습\n"
      ]
    },
    {
      "cell_type": "code",
      "metadata": {
        "colab": {
          "base_uri": "https://localhost:8080/"
        },
        "id": "pNVYtx3U5q9d",
        "outputId": "071985a7-4598-41a2-9022-97e645d829d1"
      },
      "source": [
        "from sklearn.datasets import load_breast_cancer\n",
        "from sklearn.model_selection import train_test_split\n",
        "from sklearn.metrics import accuracy_score\n",
        "\n",
        "cancer = load_breast_cancer()\n",
        "x_train, x_test, y_train, y_test = train_test_split(cancer.data,\n",
        "\t\t\t\t\t\t\t\t\t\t\t\t\tcancer.target,\n",
        "\t\t\t\t\t\t\t\t\t\t\t\t\ttest_size=0.3,\n",
        "\t\t\t\t\t\t\t\t\t\t\t\t\trandom_state=12)\n",
        "\n",
        "from sklearn.ensemble import VotingClassifier\n",
        "from sklearn.linear_model import LogisticRegression\n",
        "from sklearn.tree import DecisionTreeClassifier\n",
        "\n",
        "# LogisticRegression 및 DecisionTreeClassifier 객체 생성\n",
        "lr = LogisticRegression(random_state=12,max_iter=10000)\n",
        "dt = DecisionTreeClassifier(random_state=12)\n",
        "\n",
        "# VotingClassifier 객체 생성\n",
        "voting = VotingClassifier(estimators=[('LR',lr), ('DT',dt)], voting='soft')\n",
        "\n",
        "# VotingClassifier 학습 및 검증\n",
        "voting.fit(x_train , y_train)\n",
        "pred = voting.predict(x_test)\n",
        "\n",
        "# accuracy_score 호출하여 accuracy 계산 후 출력\n",
        "print('Accuracy: {0:.3f}'.format(accuracy_score(y_test, pred)))"
      ],
      "execution_count": null,
      "outputs": [
        {
          "output_type": "stream",
          "text": [
            "Accuracy: 0.912\n"
          ],
          "name": "stdout"
        }
      ]
    },
    {
      "cell_type": "markdown",
      "metadata": {
        "id": "lswiyHKoFrnS"
      },
      "source": [
        "사이킷런을 활용한 Random Forest 모델 실습"
      ]
    },
    {
      "cell_type": "code",
      "metadata": {
        "colab": {
          "base_uri": "https://localhost:8080/"
        },
        "id": "B4-m30FHFrUR",
        "outputId": "49eaa4d9-eee9-4ee2-d46c-63b8ae008993"
      },
      "source": [
        "from sklearn.datasets import load_breast_cancer\n",
        "from sklearn.model_selection import train_test_split\n",
        "from sklearn.metrics import accuracy_score\n",
        "\n",
        "cancer = load_breast_cancer()\n",
        "x_train, x_test, y_train, y_test = train_test_split(cancer.data,\n",
        "\t\t\t\t\t\t\t\t\t\t\t\t\tcancer.target,\n",
        "\t\t\t\t\t\t\t\t\t\t\t\t\ttest_size=0.3,\n",
        "\t\t\t\t\t\t\t\t\t\t\t\t\trandom_state=12)\n",
        "\n",
        "# RandomForestClassifier 임포트\n",
        "from sklearn.ensemble import RandomForestClassifier\n",
        "\n",
        "# RandomForestClassifier 객체 생성\n",
        "rf = RandomForestClassifier(max_depth=5, random_state=12)\n",
        "\n",
        "# RandomForestClassifier 객체 학습 및 검증\n",
        "rf.fit(x_train, y_train)\n",
        "pred = rf.predict(x_test)\n",
        "\n",
        "print('Accuracy: {0:.3f}'.format(accuracy_score(y_test, pred)))"
      ],
      "execution_count": null,
      "outputs": [
        {
          "output_type": "stream",
          "text": [
            "Accuracy: 0.924\n"
          ],
          "name": "stdout"
        }
      ]
    },
    {
      "cell_type": "markdown",
      "metadata": {
        "id": "tq1RB8wxSnnJ"
      },
      "source": [
        "사이킷런을 활용한 주성분분석(PCA) 실습"
      ]
    },
    {
      "cell_type": "code",
      "metadata": {
        "colab": {
          "base_uri": "https://localhost:8080/",
          "height": 1000
        },
        "id": "iERr9Wv8SnTW",
        "outputId": "9af8d875-e7b1-4878-a083-4f4db754478e"
      },
      "source": [
        "from sklearn.datasets import load_iris\n",
        "import pandas as pd\n",
        "import matplotlib.pyplot as plt\n",
        "import seaborn as sns\n",
        "\n",
        "#iris 데이터셋 로드와 Dict 포맷의 키 확인하기\n",
        "data = load_iris()\n",
        "print(\"iris dataset format and keys\\n\",data.keys())\n",
        "\n",
        "#feature name과 관측값 가져오기\n",
        "iris_data = data['data']\n",
        "iris_cols = data['feature_names']\n",
        "print(\"iris dataset columns\\n\",iris_cols)\n",
        "\n",
        "#column name을 재설정\n",
        "iris_cols=['sep_len', 'sep_wt', 'pet_len', 'pet_wt']\n",
        "\n",
        "#데이터프레임 생성\n",
        "iris_df = pd.DataFrame(data= iris_data, columns= iris_cols)\n",
        "iris_df['target'] = data['target']\n",
        "print(iris_df.head(5))\n",
        "\n",
        "#품종별 데이터 카운팅 체크\n",
        "target_cnt_df = iris_df.groupby(by='target').count()\n",
        "print(target_cnt_df)\n",
        "\n",
        "#PCA 수행\n",
        "#표준화(스케일링)\n",
        "from sklearn.preprocessing import StandardScaler\n",
        "\n",
        "X_train = iris_df.iloc[:, :4]\n",
        "iris_z_score = StandardScaler().fit_transform(X_train) \n",
        "\n",
        "iris_z_df = pd.DataFrame(data= iris_z_score, columns= iris_cols)\n",
        "print(iris_z_df.head(5))\n",
        "\n",
        "#주성분 분석(Feature 4 --> 2 axes)\n",
        "from sklearn.decomposition import PCA\n",
        "pca = PCA(n_components=2)\n",
        "\n",
        "pca.fit(iris_z_df) \n",
        "\n",
        "#주성분 찾기 : 고유벡터\n",
        "print('PCA Shape:\\n', pca.components_.shape)\n",
        "print('PCA eigenvectors:\\n',pca.components_)\n",
        "\n",
        "#고유벡터에 데이터를 투영시키는 과정이 transform이다.\n",
        "X_pca = pca.transform(iris_z_df)\n",
        "print('PCA Projection result(shape)\\n',X_pca.shape)\n",
        "\n",
        "#각 주성분이 분산을 얼마나 잘 설명하는지를 나타냄\n",
        "import numpy as np\n",
        "print('variance :\\n',pca.explained_variance_ratio_)\n",
        "print('total variance :\\n', np.sum(pca.explained_variance_ratio_))\n",
        "print('\\n')\n",
        "\n",
        "#projection 된 결과를 데이터프레임으로 구성\n",
        "pca_cols = ['pca_com_1', 'pca_com_2']\n",
        "pca_df = pd.DataFrame(data= X_pca, columns= pca_cols)\n",
        "pca_df['target'] = data['target']\n",
        "print(pca_df.head(5))\n",
        "\n",
        "#주성분 분석 결과 시각화\n",
        "fig, ax = plt.subplots(ncols=2)\n",
        "\n",
        "sns.scatterplot(iris_df['sep_len'], iris_df['sep_wt'], \n",
        "                hue=iris_df['target'], ax=ax[0])\n",
        "sns.scatterplot(pca_df['pca_com_1'], pca_df['pca_com_2'], \n",
        "                hue=pca_df['target'], ax=ax[1])\n",
        "plt.show()\n"
      ],
      "execution_count": null,
      "outputs": [
        {
          "output_type": "stream",
          "text": [
            "iris dataset format and keys\n",
            " dict_keys(['data', 'target', 'target_names', 'DESCR', 'feature_names', 'filename'])\n",
            "iris dataset columns\n",
            " ['sepal length (cm)', 'sepal width (cm)', 'petal length (cm)', 'petal width (cm)']\n",
            "   sep_len  sep_wt  pet_len  pet_wt  target\n",
            "0      5.1     3.5      1.4     0.2       0\n",
            "1      4.9     3.0      1.4     0.2       0\n",
            "2      4.7     3.2      1.3     0.2       0\n",
            "3      4.6     3.1      1.5     0.2       0\n",
            "4      5.0     3.6      1.4     0.2       0\n",
            "        sep_len  sep_wt  pet_len  pet_wt\n",
            "target                                  \n",
            "0            50      50       50      50\n",
            "1            50      50       50      50\n",
            "2            50      50       50      50\n",
            "    sep_len    sep_wt   pet_len    pet_wt\n",
            "0 -0.900681  1.019004 -1.340227 -1.315444\n",
            "1 -1.143017 -0.131979 -1.340227 -1.315444\n",
            "2 -1.385353  0.328414 -1.397064 -1.315444\n",
            "3 -1.506521  0.098217 -1.283389 -1.315444\n",
            "4 -1.021849  1.249201 -1.340227 -1.315444\n",
            "PCA Shape:\n",
            " (2, 4)\n",
            "PCA eigenvectors:\n",
            " [[ 0.52106591 -0.26934744  0.5804131   0.56485654]\n",
            " [ 0.37741762  0.92329566  0.02449161  0.06694199]]\n",
            "PCA Projection result(shape)\n",
            " (150, 2)\n",
            "variance :\n",
            " [0.72962445 0.22850762]\n",
            "total variance :\n",
            " 0.9581320720000165\n",
            "\n",
            "\n",
            "   pca_com_1  pca_com_2  target\n",
            "0  -2.264703   0.480027       0\n",
            "1  -2.080961  -0.674134       0\n",
            "2  -2.364229  -0.341908       0\n",
            "3  -2.299384  -0.597395       0\n",
            "4  -2.389842   0.646835       0\n"
          ],
          "name": "stdout"
        },
        {
          "output_type": "stream",
          "text": [
            "/usr/local/lib/python3.7/dist-packages/seaborn/_decorators.py:43: FutureWarning: Pass the following variables as keyword args: x, y. From version 0.12, the only valid positional argument will be `data`, and passing other arguments without an explicit keyword will result in an error or misinterpretation.\n",
            "  FutureWarning\n",
            "/usr/local/lib/python3.7/dist-packages/seaborn/_decorators.py:43: FutureWarning: Pass the following variables as keyword args: x, y. From version 0.12, the only valid positional argument will be `data`, and passing other arguments without an explicit keyword will result in an error or misinterpretation.\n",
            "  FutureWarning\n"
          ],
          "name": "stderr"
        },
        {
          "output_type": "display_data",
          "data": {
            "image/png": "[encoded data removed]",
            "text/plain": [
              "<Figure size 432x288 with 2 Axes>"
            ]
          },
          "metadata": {
            "tags": [],
            "needs_background": "light"
          }
        }
      ]
    },
    {
      "cell_type": "markdown",
      "metadata": {
        "id": "nfdQWZXX43f5"
      },
      "source": [
        "사이킷런을 활용한 선형판별분석(LDA) 실습"
      ]
    },
    {
      "cell_type": "code",
      "metadata": {
        "colab": {
          "base_uri": "https://localhost:8080/",
          "height": 1000
        },
        "id": "aM56FX0X43Vr",
        "outputId": "afe9a320-4a51-4fcd-cc50-5193be1de305"
      },
      "source": [
        "from sklearn.datasets import load_iris\n",
        "import pandas as pd\n",
        "import matplotlib.pyplot as plt\n",
        "import seaborn as sns\n",
        "\n",
        "#iris 데이터셋 로드와 Dict 포맷의 키 확인하기\n",
        "data = load_iris()\n",
        "print(\"iris dataset format and keys\\n\",data.keys())\n",
        "\n",
        "#feature name과 관측값 가져오기\n",
        "iris_data = data['data']\n",
        "iris_cols = data['feature_names']\n",
        "print(\"iris dataset columns\\n\",iris_cols)\n",
        "\n",
        "#column name을 재설정\n",
        "iris_cols=['sep_len', 'sep_wt', 'pet_len', 'pet_wt']\n",
        "\n",
        "#데이터프레임 생성하기 ==> 학습시키기 위한 데이터(독립변수들)\n",
        "iris_df = pd.DataFrame(data= iris_data, columns= iris_cols)\n",
        "print(iris_df.head(5))\n",
        "\n",
        "#데이터프레임에 학습 데이터의 정답값(라벨) 데이터 추가(종속변수)\n",
        "iris_df['label'] = data['target']\n",
        "print(iris_df.head(5))\n",
        "\n",
        "#종속변수 각 그룹에 대해 데이터 카운팅 해보기\n",
        "check_df = iris_df.groupby(by='label').count()\n",
        "print(check_df)\n",
        "\n",
        "#LDA 수행\n",
        "#LDA 패키지 import\n",
        "from sklearn.discriminant_analysis import LinearDiscriminantAnalysis as LDA\n",
        "\n",
        "#학습시키기 위한 독립변수와 종속변수 분할하기\n",
        "X_train = iris_df[iris_cols]\n",
        "y_train = iris_df['label']\n",
        "\n",
        "#LDA 오브젝트생성 및 독립변수와 종속변수를 이용해 LDA 환경구성\n",
        "lda = LDA().fit(X_train, y_train)\n",
        "'''\n",
        "fit은 독립변수와 종속변수를 매달아 두는 것임\n",
        "학습을 완전히 한 것이 아님\n",
        "transform을 활용해야 함\n",
        "'''\n",
        "print(\"판별식 선형계수\\n\", lda.coef_)\n",
        "print(\"판별식 상수\\n\", lda.intercept_)\n",
        "y_pred = pd.DataFrame(lda.predict(X_train))\n",
        "print(\"예측결과\\n\", y_pred.head(5))\n",
        "y_pred_score = pd.DataFrame(lda.predict_proba(X_train))\n",
        "print(\"예측스코어\\n\", y_pred_score.head(5))\n",
        "print(\"예측정확도\\n\", lda.score(X_train,y_train))\n",
        "\n",
        "# 분류 결과 확인하기\n",
        "from sklearn.metrics import confusion_matrix\n",
        "\n",
        "conf_df = pd.DataFrame(confusion_matrix(y_train, lda.predict(X_train)))\n",
        "conf_df.columns=['pred 0', 'pred 1', 'pred 2']#setosa,versicolor,virginica\n",
        "conf_df.index = ['real 0', 'real 1', 'real 2']\n",
        "print('Confusion Matrix \\n',conf_df)  \n",
        "\n",
        "#시각화로 확인해보기\n",
        "from sklearn.discriminant_analysis import LinearDiscriminantAnalysis\n",
        "cld=LinearDiscriminantAnalysis()\n",
        "\n",
        "X_lda = cld.fit_transform(X_train, y_train)\n",
        "print(X_lda.shape)\n",
        "\n",
        "#데이터셋 시각화 해보기\n",
        "fig, ax = plt.subplots(ncols=2)\n",
        "\n",
        "sns.scatterplot(iris_df['sep_len'], iris_df['sep_wt'], \n",
        "                hue=iris_df['label'], ax=ax[0])\n",
        "sns.scatterplot(X_lda[:,0], X_lda[:,1], hue=y_train, ax=ax[1])\n",
        "plt.show()\n"
      ],
      "execution_count": null,
      "outputs": [
        {
          "output_type": "stream",
          "text": [
            "iris dataset format and keys\n",
            " dict_keys(['data', 'target', 'target_names', 'DESCR', 'feature_names', 'filename'])\n",
            "iris dataset columns\n",
            " ['sepal length (cm)', 'sepal width (cm)', 'petal length (cm)', 'petal width (cm)']\n",
            "   sep_len  sep_wt  pet_len  pet_wt\n",
            "0      5.1     3.5      1.4     0.2\n",
            "1      4.9     3.0      1.4     0.2\n",
            "2      4.7     3.2      1.3     0.2\n",
            "3      4.6     3.1      1.5     0.2\n",
            "4      5.0     3.6      1.4     0.2\n",
            "   sep_len  sep_wt  pet_len  pet_wt  label\n",
            "0      5.1     3.5      1.4     0.2      0\n",
            "1      4.9     3.0      1.4     0.2      0\n",
            "2      4.7     3.2      1.3     0.2      0\n",
            "3      4.6     3.1      1.5     0.2      0\n",
            "4      5.0     3.6      1.4     0.2      0\n",
            "       sep_len  sep_wt  pet_len  pet_wt\n",
            "label                                  \n",
            "0           50      50       50      50\n",
            "1           50      50       50      50\n",
            "2           50      50       50      50\n",
            "판별식 선형계수\n",
            " [[  6.31475846  12.13931718 -16.94642465 -20.77005459]\n",
            " [ -1.53119919  -4.37604348   4.69566531   3.06258539]\n",
            " [ -4.78355927  -7.7632737   12.25075935  17.7074692 ]]\n",
            "판별식 상수\n",
            " [-15.47783673  -2.02197415 -33.53768674]\n",
            "예측결과\n",
            "    0\n",
            "0  0\n",
            "1  0\n",
            "2  0\n",
            "3  0\n",
            "4  0\n",
            "예측스코어\n",
            "      0             1             2\n",
            "0  1.0  3.896358e-22  2.611168e-42\n",
            "1  1.0  7.217970e-18  5.042143e-37\n",
            "2  1.0  1.463849e-19  4.675932e-39\n",
            "3  1.0  1.268536e-16  3.566610e-35\n",
            "4  1.0  1.637387e-22  1.082605e-42\n",
            "예측정확도\n",
            " 0.98\n",
            "Confusion Matrix \n",
            "         pred 0  pred 1  pred 2\n",
            "real 0      50       0       0\n",
            "real 1       0      48       2\n",
            "real 2       0       1      49\n",
            "(150, 2)\n"
          ],
          "name": "stdout"
        },
        {
          "output_type": "stream",
          "text": [
            "/usr/local/lib/python3.7/dist-packages/seaborn/_decorators.py:43: FutureWarning: Pass the following variables as keyword args: x, y. From version 0.12, the only valid positional argument will be `data`, and passing other arguments without an explicit keyword will result in an error or misinterpretation.\n",
            "  FutureWarning\n",
            "/usr/local/lib/python3.7/dist-packages/seaborn/_decorators.py:43: FutureWarning: Pass the following variables as keyword args: x, y. From version 0.12, the only valid positional argument will be `data`, and passing other arguments without an explicit keyword will result in an error or misinterpretation.\n",
            "  FutureWarning\n"
          ],
          "name": "stderr"
        },
        {
          "output_type": "display_data",
          "data": {
            "image/png": "[encoded data removed]",
            "text/plain": [
              "<Figure size 432x288 with 2 Axes>"
            ]
          },
          "metadata": {
            "tags": [],
            "needs_background": "light"
          }
        }
      ]
    },
    {
      "cell_type": "markdown",
      "metadata": {
        "id": "Vw8pUnIsAYO3"
      },
      "source": [
        "K-Fold 교차 검증 구현"
      ]
    },
    {
      "cell_type": "code",
      "metadata": {
        "colab": {
          "base_uri": "https://localhost:8080/"
        },
        "id": "BJjjYRdiAYBz",
        "outputId": "e2240bdd-e9ca-4478-c664-1c6a265e5850"
      },
      "source": [
        "# K Fold Validation을 위한 cross_val_score() 메서드 로딩\n",
        "from sklearn.model_selection import cross_val_score\n",
        "\n",
        "# 모델 구현을 위한 라이브러리 로딩\n",
        "from sklearn.tree import DecisionTreeClassifier\n",
        "from sklearn.datasets import load_iris\n",
        "import numpy as np\n",
        "\n",
        "# load_iris() 메서드를 이용하여 iris 데이터 셋 로드\n",
        "iris = load_iris()\n",
        "data = iris.data\n",
        "label = iris.target\n",
        "\n",
        "# DecisionTreeClassifier 모델 객체 생성\n",
        "dt_clf = DecisionTreeClassifier(random_state=156)\n",
        "\n",
        "# cross_val_score() 메서드를 이용하여 교차 검증 수행\n",
        "scores = cross_val_score(estimator=dt_clf,\n",
        "                        X=data, y=label,\n",
        "                        scoring='accuracy',\n",
        "                        cv=3)\n",
        "\n",
        "# 교차 검증 수행 결과 성능 지표 출력\n",
        "print('Fold val accuracy:',np.round(scores, 4))\n",
        "print('Avg val accuracy:', np.round(np.mean(scores), 4))"
      ],
      "execution_count": null,
      "outputs": [
        {
          "output_type": "stream",
          "text": [
            "Fold val accuracy: [0.98 0.94 0.98]\n",
            "Avg val accuracy: 0.9667\n"
          ],
          "name": "stdout"
        }
      ]
    },
    {
      "cell_type": "markdown",
      "metadata": {
        "id": "-nsUVXlREjX4"
      },
      "source": [
        "머신러닝 모델의 최적 파라미터 탐색\n",
        "-GridSearchCV API 모델 활용"
      ]
    },
    {
      "cell_type": "code",
      "metadata": {
        "colab": {
          "base_uri": "https://localhost:8080/"
        },
        "id": "zFf8b3_TEjJu",
        "outputId": "284c272c-dc1e-450c-ed00-c12f2a4cdeb8"
      },
      "source": [
        "# 하이퍼파라미터 튜닝을 을 위한 GridSearchCV 라이브러리 로딩\n",
        "from sklearn.model_selection import GridSearchCV\n",
        "\n",
        "# 모델 구현을 위한 라이브러리 로딩\n",
        "from sklearn.datasets import load_iris\n",
        "from sklearn.model_selection import train_test_split\n",
        "from sklearn.metrics import accuracy_score\n",
        "from sklearn.tree import DecisionTreeClassifier\n",
        "\n",
        "# load_iris() 메서드를 이용하여 iris 데이터 셋 로드\n",
        "iris = load_iris()\n",
        "\n",
        "# 학습, 테스트 데이터셋 분리\n",
        "x_train, x_test, y_train, y_test = train_test_split(iris.data, \n",
        "                                                    iris.target, \n",
        "                                                    test_size=0.2,\n",
        "                                                    random_state=121)\n",
        "\n",
        "\n",
        "# DecisionTreeClassifier 모델 객체 생성\n",
        "dtree = DecisionTreeClassifier()\n",
        "\n",
        "# 모델의 후보 파라미터 셋(param_grid)을 지정한 딕셔너리 객체 생성\n",
        "parameters = {'max_depth':[1,2,3],\n",
        "              'min_samples_split':[2,3]}\n",
        "\n",
        "# GridSearchCV 객체 생성\n",
        "grid_dtree = GridSearchCV(estimator=dtree,\n",
        "                          param_grid=parameters,\n",
        "                          cv=3,\n",
        "                          refit=True)\n",
        "\n",
        "# GridSearchCV 객체의 fit() 메서드를 이용하여\n",
        "# 후보 파라미터 셋의 성능 검증\n",
        "grid_dtree.fit(x_train, y_train)\n",
        "\n",
        "# 후보 파라미터 셋의 성능 검증 결과 출력\n",
        "print('Optimal parameter:', grid_dtree.best_params_)\n",
        "print('Max accuracy: {0:.4f}'.format(grid_dtree.best_score_))\n",
        "\n",
        "# 최적의 파라미터 모델을 이용하여 예측값 생성\n",
        "estimator = grid_dtree.best_estimator_\n",
        "pred = estimator.predict(x_test)\n",
        "\n",
        "# 최적의 파라미터 모델의 성능지표 출력\n",
        "print('Test accuracy: {0:.4f}'.format(accuracy_score(y_test,pred))) "
      ],
      "execution_count": null,
      "outputs": [
        {
          "output_type": "stream",
          "text": [
            "Optimal parameter: {'max_depth': 3, 'min_samples_split': 2}\n",
            "Max accuracy: 0.9750\n",
            "Test accuracy: 0.9667\n"
          ],
          "name": "stdout"
        }
      ]
    }
  ]
}